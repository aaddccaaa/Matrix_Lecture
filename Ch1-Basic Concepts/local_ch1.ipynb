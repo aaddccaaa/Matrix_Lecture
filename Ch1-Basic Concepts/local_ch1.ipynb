{
 "cells": [
  {
   "cell_type": "code",
   "execution_count": 16,
   "metadata": {},
   "outputs": [
    {
     "data": {
      "text/html": [
       "<div><pre style=\"&#102;&#111;&#110;&#116;&#45;&#102;&#97;&#109;&#105;&#108;&#121;&#58;&#32;&#34;&#67;&#111;&#117;&#114;&#105;&#101;&#114;&#32;&#78;&#101;&#119;&#34;&#44;&#67;&#111;&#117;&#114;&#105;&#101;&#114;&#44;&#109;&#111;&#110;&#111;&#115;&#112;&#97;&#99;&#101;&#59;\">&#49;&#53;</pre></div>"
      ],
      "text/plain": [
       "15"
      ]
     },
     "execution_count": 16,
     "metadata": {
      "text/html": [],
      "text/plain": []
     },
     "output_type": "execute_result"
    }
   ],
   "source": [
    "Tr[{{1, 2, 3}, {4, 5, 6}, {7, 8, 9}}]"
   ]
  },
  {
   "cell_type": "code",
   "execution_count": 66,
   "metadata": {},
   "outputs": [
    {
     "data": {
      "text/html": [
       "<div><pre style=\"&#102;&#111;&#110;&#116;&#45;&#102;&#97;&#109;&#105;&#108;&#121;&#58;&#32;&#34;&#67;&#111;&#117;&#114;&#105;&#101;&#114;&#32;&#78;&#101;&#119;&#34;&#44;&#67;&#111;&#117;&#114;&#105;&#101;&#114;&#44;&#109;&#111;&#110;&#111;&#115;&#112;&#97;&#99;&#101;&#59;\">&#123;&#123;&#49;&#44;&#32;&#50;&#44;&#32;&#51;&#125;&#44;&#32;&#123;&#52;&#44;&#32;&#53;&#44;&#32;&#54;&#125;&#44;&#32;&#123;&#55;&#44;&#32;&#56;&#44;&#32;&#57;&#125;&#125;</pre></div>"
      ],
      "text/plain": [
       "{{1, 2, 3}, {4, 5, 6}, {7, 8, 9}}"
      ]
     },
     "execution_count": 66,
     "metadata": {
      "text/html": [],
      "text/plain": []
     },
     "output_type": "execute_result"
    }
   ],
   "source": [
    "A1 = {{1, 2, 3}, {4, 5, 6}, {7, 8, 9}}"
   ]
  },
  {
   "cell_type": "code",
   "execution_count": 67,
   "metadata": {},
   "outputs": [
    {
     "data": {
      "text/html": [
       "<div><pre style=\"&#102;&#111;&#110;&#116;&#45;&#102;&#97;&#109;&#105;&#108;&#121;&#58;&#32;&#34;&#67;&#111;&#117;&#114;&#105;&#101;&#114;&#32;&#78;&#101;&#119;&#34;&#44;&#67;&#111;&#117;&#114;&#105;&#101;&#114;&#44;&#109;&#111;&#110;&#111;&#115;&#112;&#97;&#99;&#101;&#59;\">&#123;&#123;&#48;&#44;&#32;&#50;&#44;&#32;&#51;&#125;&#44;&#32;&#123;&#52;&#44;&#32;&#53;&#44;&#32;&#48;&#125;&#44;&#32;&#123;&#55;&#44;&#32;&#48;&#44;&#32;&#57;&#125;&#125;</pre></div>"
      ],
      "text/plain": [
       "{{0, 2, 3}, {4, 5, 0}, {7, 0, 9}}"
      ]
     },
     "execution_count": 67,
     "metadata": {
      "text/html": [],
      "text/plain": []
     },
     "output_type": "execute_result"
    }
   ],
   "source": [
    "A2 = {{0, 2, 3}, {4, 5, 0}, {7, 0, 9}}"
   ]
  },
  {
   "cell_type": "code",
   "execution_count": 68,
   "metadata": {},
   "outputs": [
    {
     "data": {
      "text/html": [
       "<div><pre style=\"&#102;&#111;&#110;&#116;&#45;&#102;&#97;&#109;&#105;&#108;&#121;&#58;&#32;&#34;&#67;&#111;&#117;&#114;&#105;&#101;&#114;&#32;&#78;&#101;&#119;&#34;&#44;&#67;&#111;&#117;&#114;&#105;&#101;&#114;&#44;&#109;&#111;&#110;&#111;&#115;&#112;&#97;&#99;&#101;&#59;\">&#50;&#57;</pre></div>"
      ],
      "text/plain": [
       "29"
      ]
     },
     "execution_count": 68,
     "metadata": {
      "text/html": [],
      "text/plain": []
     },
     "output_type": "execute_result"
    }
   ],
   "source": [
    "Tr[A1+A2]"
   ]
  },
  {
   "cell_type": "code",
   "execution_count": 69,
   "metadata": {},
   "outputs": [
    {
     "data": {
      "text/html": [
       "<div><pre style=\"&#102;&#111;&#110;&#116;&#45;&#102;&#97;&#109;&#105;&#108;&#121;&#58;&#32;&#34;&#67;&#111;&#117;&#114;&#105;&#101;&#114;&#32;&#78;&#101;&#119;&#34;&#44;&#67;&#111;&#117;&#114;&#105;&#101;&#114;&#44;&#109;&#111;&#110;&#111;&#115;&#112;&#97;&#99;&#101;&#59;\">&#50;&#57;</pre></div>"
      ],
      "text/plain": [
       "29"
      ]
     },
     "execution_count": 69,
     "metadata": {
      "text/html": [],
      "text/plain": []
     },
     "output_type": "execute_result"
    }
   ],
   "source": [
    "Tr[A1] + Tr[A2]"
   ]
  },
  {
   "cell_type": "code",
   "execution_count": 23,
   "metadata": {},
   "outputs": [
    {
     "data": {
      "text/html": [
       "<div><pre style=\"&#102;&#111;&#110;&#116;&#45;&#102;&#97;&#109;&#105;&#108;&#121;&#58;&#32;&#34;&#67;&#111;&#117;&#114;&#105;&#101;&#114;&#32;&#78;&#101;&#119;&#34;&#44;&#67;&#111;&#117;&#114;&#105;&#101;&#114;&#44;&#109;&#111;&#110;&#111;&#115;&#112;&#97;&#99;&#101;&#59;\">&#49;&#53;</pre></div>"
      ],
      "text/plain": [
       "15"
      ]
     },
     "execution_count": 23,
     "metadata": {
      "text/html": [],
      "text/plain": []
     },
     "output_type": "execute_result"
    }
   ],
   "source": [
    "Tr[A1]"
   ]
  },
  {
   "cell_type": "code",
   "execution_count": 24,
   "metadata": {},
   "outputs": [
    {
     "data": {
      "text/html": [
       "<div><pre style=\"&#102;&#111;&#110;&#116;&#45;&#102;&#97;&#109;&#105;&#108;&#121;&#58;&#32;&#34;&#67;&#111;&#117;&#114;&#105;&#101;&#114;&#32;&#78;&#101;&#119;&#34;&#44;&#67;&#111;&#117;&#114;&#105;&#101;&#114;&#44;&#109;&#111;&#110;&#111;&#115;&#112;&#97;&#99;&#101;&#59;\">&#49;&#52;</pre></div>"
      ],
      "text/plain": [
       "14"
      ]
     },
     "execution_count": 24,
     "metadata": {
      "text/html": [],
      "text/plain": []
     },
     "output_type": "execute_result"
    }
   ],
   "source": [
    "Tr[A2]"
   ]
  },
  {
   "cell_type": "code",
   "execution_count": 71,
   "metadata": {},
   "outputs": [
    {
     "data": {
      "text/html": [
       "<div><pre style=\"&#102;&#111;&#110;&#116;&#45;&#102;&#97;&#109;&#105;&#108;&#121;&#58;&#32;&#34;&#67;&#111;&#117;&#114;&#105;&#101;&#114;&#32;&#78;&#101;&#119;&#34;&#44;&#67;&#111;&#117;&#114;&#105;&#101;&#114;&#44;&#109;&#111;&#110;&#111;&#115;&#112;&#97;&#99;&#101;&#59;\">&#49;&#51;&#53;</pre></div>"
      ],
      "text/plain": [
       "135"
      ]
     },
     "execution_count": 71,
     "metadata": {
      "text/html": [],
      "text/plain": []
     },
     "output_type": "execute_result"
    }
   ],
   "source": [
    "Tr[A1.A2]-Tr[A1]-Tr[A2]"
   ]
  },
  {
   "cell_type": "code",
   "execution_count": 25,
   "metadata": {},
   "outputs": [
    {
     "data": {
      "text/html": [
       "<div><pre style=\"&#102;&#111;&#110;&#116;&#45;&#102;&#97;&#109;&#105;&#108;&#121;&#58;&#32;&#34;&#67;&#111;&#117;&#114;&#105;&#101;&#114;&#32;&#78;&#101;&#119;&#34;&#44;&#67;&#111;&#117;&#114;&#105;&#101;&#114;&#44;&#109;&#111;&#110;&#111;&#115;&#112;&#97;&#99;&#101;&#59;\">&#49;&#48;&#54;</pre></div>"
      ],
      "text/plain": [
       "106"
      ]
     },
     "execution_count": 25,
     "metadata": {
      "text/html": [],
      "text/plain": []
     },
     "output_type": "execute_result"
    }
   ],
   "source": [
    "Tr[A2*A1]"
   ]
  },
  {
   "cell_type": "code",
   "execution_count": 35,
   "metadata": {},
   "outputs": [
    {
     "data": {
      "text/html": [
       "<div><pre style=\"&#102;&#111;&#110;&#116;&#45;&#102;&#97;&#109;&#105;&#108;&#121;&#58;&#32;&#34;&#67;&#111;&#117;&#114;&#105;&#101;&#114;&#32;&#78;&#101;&#119;&#34;&#44;&#67;&#111;&#117;&#114;&#105;&#101;&#114;&#44;&#109;&#111;&#110;&#111;&#115;&#112;&#97;&#99;&#101;&#59;\">&#123;&#123;&#49;&#44;&#32;&#50;&#125;&#44;&#32;&#123;&#51;&#44;&#32;&#52;&#125;&#125;</pre></div>"
      ],
      "text/plain": [
       "{{1, 2}, {3, 4}}"
      ]
     },
     "execution_count": 35,
     "metadata": {
      "text/html": [],
      "text/plain": []
     },
     "output_type": "execute_result"
    }
   ],
   "source": [
    "A3 = {{1, 2}, {3, 4}}"
   ]
  },
  {
   "cell_type": "code",
   "execution_count": 45,
   "metadata": {},
   "outputs": [
    {
     "data": {
      "text/html": [
       "<div><img alt=\"Output\" src=\"data:image/png;base64,iVBORw0KGgoAAAANSUhEUgAAAEwAAAASCAIAAAB+ca/7AAAAqXpUWHRSYXcgcHJvZmlsZSB0eXBlIGV4aWYAAHjaVU/bDQMhDPtnio6QFw6Mg66c1A06fs0drVQDjmMlAcp8v87yWFBrJWo2dECI6NFtUDS54dwqKsYY27JfvHzdfrlHiNhoTZape8h32EZ4Gio0gxwmmejUjYqMWkxq4sQBsFDxNImDcSKTbUhUEx+rccFm/ldPOPMnX+Tmcp3hyjWoeAtVpa7uZF/fKh839jmoEs6l/QAAAAlwSFlzAAALEwAACxMBAJqcGAAAADx0RVh0U29mdHdhcmUAQ3JlYXRlZCB3aXRoIHRoZSBXb2xmcmFtIExhbmd1YWdlIDogd3d3LndvbGZyYW0uY29tXKKmhQAAACF0RVh0Q3JlYXRpb24gVGltZQAyMDIwOjExOjA4IDE1OjUzOjM0XtbK/wAAAlxJREFUWIXdl6+zolAUx+/d2UCkSYOga3nByGjQqG4xbdWEmrw2nNngfwAkfJvcZtMEf4E7NAlv3jgPZ7RJ8zZodwM4AgIPf87sfhrnXu4533PP/QUJIeB/52t6c7/fz+Vyzwnl7tA0jRAC6SJd1y0Wi16/f5o0kYZh8Dz/tFA8MMbD4ZBl2VsGabVapVLp9E2SUVXVcZyUDo9gPp8fDof7jvklPakURd2S0SvY7XY0Td93zDSRz1f4IBJFYowDGd0oFQgh7OogYvEJNNzCyelp+IqyOfcZMMbEFiVRpGmax7Wrd2Eb/LbkcrSPoB2r/rVxlagohmHUajUANkr7/SchhBBLBqjtKYo1JsYWJIvIxitZDvJXRa0rgZR/znq95jgOgPxg6act/+0F/Hm3AEgwZorNF+m6rizLtm1fJOFX87x4LgBjPB6P051uPt6A0GpkMKbgi5xMJjzPK4qS+cf8YOmXqiUDVLhmUc5ms06nM51OvU/XdaNbnd4toBctshZijan4IhFC3rnv5RVjzDBMxiHy33+UwdtHeDL1LoQQwiZChcS57vV6HMfRNO05jdw9NkoFNoEWXu6xxs8JHpr7/V4URUKIruvb7TZ8olpyObDTBNAEAMqyFXsMa3JCwwnHcRBChBBVVUPOzrzFGtNj84jeeERR3O/3kiQFIxXCeRG0o0ePJIUkk0hCiCRJq9Xq5PRssxS0BGN8bFEgCT+1bNteLBZeLV1UEbfguu5oNGJZ9kGPgegFnWGY8DXgGVAUVa1WH+c0OpMAANu2TdOs1+sPcplEzO56J/4CuUQnaA0lMLcAAAAASUVORK5CYII=\"></div>"
      ],
      "text/plain": [
       "Sqrt[15 + Sqrt[221]]"
      ]
     },
     "execution_count": 45,
     "metadata": {
      "text/html": [],
      "text/plain": []
     },
     "output_type": "execute_result"
    }
   ],
   "source": [
    "Norm[A3, 2]"
   ]
  },
  {
   "cell_type": "code",
   "execution_count": 46,
   "metadata": {},
   "outputs": [
    {
     "data": {
      "text/html": [
       "<div><pre style=\"&#102;&#111;&#110;&#116;&#45;&#102;&#97;&#109;&#105;&#108;&#121;&#58;&#32;&#34;&#67;&#111;&#117;&#114;&#105;&#101;&#114;&#32;&#78;&#101;&#119;&#34;&#44;&#67;&#111;&#117;&#114;&#105;&#101;&#114;&#44;&#109;&#111;&#110;&#111;&#115;&#112;&#97;&#99;&#101;&#59;\">&#123;&#123;&#49;&#44;&#32;&#51;&#125;&#44;&#32;&#123;&#50;&#44;&#32;&#52;&#125;&#125;</pre></div>"
      ],
      "text/plain": [
       "{{1, 3}, {2, 4}}"
      ]
     },
     "execution_count": 46,
     "metadata": {
      "text/html": [],
      "text/plain": []
     },
     "output_type": "execute_result"
    }
   ],
   "source": [
    "A4 = Transpose[A3]"
   ]
  },
  {
   "cell_type": "code",
   "execution_count": 53,
   "metadata": {},
   "outputs": [
    {
     "data": {
      "text/html": [
       "<div><pre style=\"&#102;&#111;&#110;&#116;&#45;&#102;&#97;&#109;&#105;&#108;&#121;&#58;&#32;&#34;&#67;&#111;&#117;&#114;&#105;&#101;&#114;&#32;&#78;&#101;&#119;&#34;&#44;&#67;&#111;&#117;&#114;&#105;&#101;&#114;&#44;&#109;&#111;&#110;&#111;&#115;&#112;&#97;&#99;&#101;&#59;\">&#53;&#46;&#52;&#54;&#52;&#57;&#57;</pre></div>"
      ],
      "text/plain": [
       "5.46499"
      ]
     },
     "execution_count": 53,
     "metadata": {
      "text/html": [],
      "text/plain": []
     },
     "output_type": "execute_result"
    }
   ],
   "source": [
    "Norm[A3, 2]//N"
   ]
  },
  {
   "cell_type": "code",
   "execution_count": 51,
   "metadata": {},
   "outputs": [
    {
     "data": {
      "text/html": [
       "<div><pre style=\"&#102;&#111;&#110;&#116;&#45;&#102;&#97;&#109;&#105;&#108;&#121;&#58;&#32;&#34;&#67;&#111;&#117;&#114;&#105;&#101;&#114;&#32;&#78;&#101;&#119;&#34;&#44;&#67;&#111;&#117;&#114;&#105;&#101;&#114;&#44;&#109;&#111;&#110;&#111;&#115;&#112;&#97;&#99;&#101;&#59;\">&#123;&#123;&#53;&#44;&#32;&#49;&#49;&#125;&#44;&#32;&#123;&#49;&#49;&#44;&#32;&#50;&#53;&#125;&#125;</pre></div>"
      ],
      "text/plain": [
       "{{5, 11}, {11, 25}}"
      ]
     },
     "execution_count": 51,
     "metadata": {
      "text/html": [],
      "text/plain": []
     },
     "output_type": "execute_result"
    }
   ],
   "source": [
    "A5 = A3.A4"
   ]
  },
  {
   "cell_type": "code",
   "execution_count": 55,
   "metadata": {},
   "outputs": [
    {
     "data": {
      "text/html": [
       "<div><pre style=\"&#102;&#111;&#110;&#116;&#45;&#102;&#97;&#109;&#105;&#108;&#121;&#58;&#32;&#34;&#67;&#111;&#117;&#114;&#105;&#101;&#114;&#32;&#78;&#101;&#119;&#34;&#44;&#67;&#111;&#117;&#114;&#105;&#101;&#114;&#44;&#109;&#111;&#110;&#111;&#115;&#112;&#97;&#99;&#101;&#59;\">&#53;&#46;&#52;&#55;&#55;&#50;&#51;</pre></div>"
      ],
      "text/plain": [
       "5.47723"
      ]
     },
     "execution_count": 55,
     "metadata": {
      "text/html": [],
      "text/plain": []
     },
     "output_type": "execute_result"
    }
   ],
   "source": [
    "Sqrt[Tr[A5]]//N"
   ]
  },
  {
   "cell_type": "code",
   "execution_count": 56,
   "metadata": {},
   "outputs": [
    {
     "data": {
      "text/html": [
       "<div><pre style=\"&#102;&#111;&#110;&#116;&#45;&#102;&#97;&#109;&#105;&#108;&#121;&#58;&#32;&#34;&#67;&#111;&#117;&#114;&#105;&#101;&#114;&#32;&#78;&#101;&#119;&#34;&#44;&#67;&#111;&#117;&#114;&#105;&#101;&#114;&#44;&#109;&#111;&#110;&#111;&#115;&#112;&#97;&#99;&#101;&#59;\">&#53;&#46;&#52;&#55;&#55;&#50;&#51;</pre></div>"
      ],
      "text/plain": [
       "5.47723"
      ]
     },
     "execution_count": 56,
     "metadata": {
      "text/html": [],
      "text/plain": []
     },
     "output_type": "execute_result"
    }
   ],
   "source": [
    "Norm[A3, \"Frobenius\"]//N"
   ]
  },
  {
   "cell_type": "code",
   "execution_count": 57,
   "metadata": {},
   "outputs": [
    {
     "data": {
      "text/html": [
       "<div><pre style=\"&#102;&#111;&#110;&#116;&#45;&#102;&#97;&#109;&#105;&#108;&#121;&#58;&#32;&#34;&#67;&#111;&#117;&#114;&#105;&#101;&#114;&#32;&#78;&#101;&#119;&#34;&#44;&#67;&#111;&#117;&#114;&#105;&#101;&#114;&#44;&#109;&#111;&#110;&#111;&#115;&#112;&#97;&#99;&#101;&#59;\">&#53;&#46;&#52;&#54;&#52;&#57;&#57;</pre></div>"
      ],
      "text/plain": [
       "5.46499"
      ]
     },
     "execution_count": 57,
     "metadata": {
      "text/html": [],
      "text/plain": []
     },
     "output_type": "execute_result"
    }
   ],
   "source": [
    "Norm[A3]//N"
   ]
  },
  {
   "cell_type": "code",
   "execution_count": 58,
   "metadata": {},
   "outputs": [
    {
     "data": {
      "text/html": [
       "<div><pre style=\"&#102;&#111;&#110;&#116;&#45;&#102;&#97;&#109;&#105;&#108;&#121;&#58;&#32;&#34;&#67;&#111;&#117;&#114;&#105;&#101;&#114;&#32;&#78;&#101;&#119;&#34;&#44;&#67;&#111;&#117;&#114;&#105;&#101;&#114;&#44;&#109;&#111;&#110;&#111;&#115;&#112;&#97;&#99;&#101;&#59;\">&#45;&#50;</pre></div>"
      ],
      "text/plain": [
       "-2"
      ]
     },
     "execution_count": 58,
     "metadata": {
      "text/html": [],
      "text/plain": []
     },
     "output_type": "execute_result"
    }
   ],
   "source": [
    "Det[A3]"
   ]
  },
  {
   "cell_type": "code",
   "execution_count": 59,
   "metadata": {},
   "outputs": [
    {
     "data": {
      "text/html": [
       "<div><pre style=\"&#102;&#111;&#110;&#116;&#45;&#102;&#97;&#109;&#105;&#108;&#121;&#58;&#32;&#34;&#67;&#111;&#117;&#114;&#105;&#101;&#114;&#32;&#78;&#101;&#119;&#34;&#44;&#67;&#111;&#117;&#114;&#105;&#101;&#114;&#44;&#109;&#111;&#110;&#111;&#115;&#112;&#97;&#99;&#101;&#59;\">&#45;&#56;</pre></div>"
      ],
      "text/plain": [
       "-8"
      ]
     },
     "execution_count": 59,
     "metadata": {
      "text/html": [],
      "text/plain": []
     },
     "output_type": "execute_result"
    }
   ],
   "source": [
    "Det[2*A3]"
   ]
  },
  {
   "cell_type": "code",
   "execution_count": 60,
   "metadata": {},
   "outputs": [
    {
     "data": {
      "text/html": [
       "<div><pre style=\"&#102;&#111;&#110;&#116;&#45;&#102;&#97;&#109;&#105;&#108;&#121;&#58;&#32;&#34;&#67;&#111;&#117;&#114;&#105;&#101;&#114;&#32;&#78;&#101;&#119;&#34;&#44;&#67;&#111;&#117;&#114;&#105;&#101;&#114;&#44;&#109;&#111;&#110;&#111;&#115;&#112;&#97;&#99;&#101;&#59;\">&#48;</pre></div>"
      ],
      "text/plain": [
       "0"
      ]
     },
     "execution_count": 60,
     "metadata": {
      "text/html": [],
      "text/plain": []
     },
     "output_type": "execute_result"
    }
   ],
   "source": [
    "Det[{{1,2,0,1},{1,2,0,2},{1,2,0,3},{1,0,-3,4}}]"
   ]
  },
  {
   "cell_type": "code",
   "execution_count": 62,
   "metadata": {},
   "outputs": [
    {
     "data": {
      "text/html": [
       "<div><pre style=\"&#102;&#111;&#110;&#116;&#45;&#102;&#97;&#109;&#105;&#108;&#121;&#58;&#32;&#34;&#67;&#111;&#117;&#114;&#105;&#101;&#114;&#32;&#78;&#101;&#119;&#34;&#44;&#67;&#111;&#117;&#114;&#105;&#101;&#114;&#44;&#109;&#111;&#110;&#111;&#115;&#112;&#97;&#99;&#101;&#59;\">&#51;</pre></div>"
      ],
      "text/plain": [
       "3"
      ]
     },
     "execution_count": 62,
     "metadata": {
      "text/html": [],
      "text/plain": []
     },
     "output_type": "execute_result"
    }
   ],
   "source": [
    "MatrixRank[{{1,2,0,1},{1,2,0,2},{1,2,0,3},{1,0,-3,4}}]"
   ]
  },
  {
   "cell_type": "code",
   "execution_count": 65,
   "metadata": {},
   "outputs": [
    {
     "data": {
      "text/html": [
       "<div><img alt=\"Output\" src=\"data:image/png;base64,iVBORw0KGgoAAAANSUhEUgAAAIgAAAAfCAIAAACzuxL+AAAAqHpUWHRSYXcgcHJvZmlsZSB0eXBlIGV4aWYAAHjaVU7bDQMhDPtnio6QFw6Mg66c1A06fs0drVQDsWMlIWW+X2d5LKi1EjUbOiBE9Og2KJrccF4VFSPHtuzHl6/bL/cIERutyTJ1D/kO2whPQ4VmMIZJJjp1o2JELSY1ceIAWKh4msRBnshkGxLVxMdqXLCZ/9UTzvzJjdxcrjdceQYVf6Hj1OZx+Wv1DzeyOZ+6r8TlAAAACXBIWXMAAAsTAAALEwEAmpwYAAAAPHRFWHRTb2Z0d2FyZQBDcmVhdGVkIHdpdGggdGhlIFdvbGZyYW0gTGFuZ3VhZ2UgOiB3d3cud29sZnJhbS5jb21coqaFAAAAIXRFWHRDcmVhdGlvbiBUaW1lADIwMjA6MTE6MDggMjM6MjQ6MTCpJboUAAACvElEQVRoge2aPZaiQBDHq/ftATwEEPA8gZ6gncRoUjMI4QAGBptNAiFmm040EZxAT+AzoLlLbwAuKt3QDYWg+MumfPy7i5ru+lDCOYc34+PX0Bt4NIlLLizDDF0+C5eEEOImXYUmFxga8RwWgL/BDU3ikg38ZcECQWtygblhbhmYcjTiBw9JcYKBKS4z8/uTRXTozUiZYGAul9n2bCLkgr64CUz+vzTezWrS4A5dO3BK8fO/mLwqqNYbMjvw/8SOE/PXodGd2IFFwPAXZsECZEuzwBEuWbVfn5j1erxXbguE7lxVy39shpaqr8VN/wj7lfiwGpYtfLJq/425sSeARpxHzyA+weT/HLwDM1IUApPXDYq1WjGS0B14CCcZWgu/GgqBYdaWc67Ui2Xh5rwtygz1gYdskmF4B85j+2EV7ajATf6GdyiSn2HN4XhmAAplD404BchC1K08O+WJydIUUTdLT+AMWX7juoOGCcCU7JcTk4Vf8CEs9ZI0NenNG05cstqXfy6CSj+QuKY/jzlGXKgFYQa6/YbEnd1ud2fxfX82mymq1juuJG541peb0EpiqNovvaq4Wa3rYmsaX91n6paKHV25tjt4DLLd3dnLkUwcSOYTcazuo/SdxA40vCxJYITbalaTu1OPgnInlGcyZY6hliW8/TTIwo1/hGIecVv+mvYCYP8jLH2bJxn31KkVtHRHQbkTDOwP0bVcsaNWZYZ34J7kI2sOMBdXA/qTjDq1bvSnrIlK5/+z6tbnZeGSkNUp0P1eKn/uG0lNdb0+lNtwdb1q5JInQOZO2cj2MPRvFJelvop9arOydrOJAcSnNvZvN5sYQHxqJ6ak19lEd/HrwKSvNS6sdSefTfSU5VHEq5lrtD2zJlJ3ep0M1Db2gk9kduATY5CotGBigal86YMZIlRxwt+/9h8l/wCDqIe91kDMJQAAAABJRU5ErkJggg==\"></div>"
      ],
      "text/plain": [
       "           3    1\n",
       "{{-2, 1}, {-, -(-)}}\n",
       "           2    2"
      ]
     },
     "execution_count": 65,
     "metadata": {
      "text/html": [],
      "text/plain": []
     },
     "output_type": "execute_result"
    }
   ],
   "source": [
    "Inverse[A3]"
   ]
  },
  {
   "cell_type": "code",
   "execution_count": 6,
   "metadata": {},
   "outputs": [
    {
     "data": {
      "text/html": [
       "<div><img alt=\"Output\" src=\"data:image/png;base64,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\"></div>"
      ],
      "text/plain": [
       "-Graphics3D-"
      ]
     },
     "execution_count": 6,
     "metadata": {
      "text/html": [],
      "text/plain": []
     },
     "output_type": "execute_result"
    }
   ],
   "source": [
    "Plot3D[{x^2 + y^2 }, {x, -2, 2}, {y, -2, 2}, \n",
    " RegionFunction -> Function[{x, y, z}, x^2 + y^2 <= 5], \n",
    " BoxRatios -> Automatic] "
   ]
  },
  {
   "cell_type": "code",
   "execution_count": null,
   "metadata": {},
   "outputs": [],
   "source": []
  }
 ],
 "metadata": {
  "kernelspec": {
   "display_name": "Wolfram Language 12.1",
   "language": "Wolfram Language",
   "name": "wolframlanguage12.1"
  },
  "language_info": {
   "codemirror_mode": "mathematica",
   "file_extension": ".m",
   "mimetype": "application/vnd.wolfram.m",
   "name": "Wolfram Language",
   "pygments_lexer": "mathematica",
   "version": "12.0"
  }
 },
 "nbformat": 4,
 "nbformat_minor": 4
}
