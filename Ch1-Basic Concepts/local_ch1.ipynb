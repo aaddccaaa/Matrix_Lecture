{
 "cells": [
  {
   "cell_type": "code",
   "execution_count": 16,
   "metadata": {},
   "outputs": [
    {
     "data": {
      "text/html": [
       "<div><pre style=\"&#102;&#111;&#110;&#116;&#45;&#102;&#97;&#109;&#105;&#108;&#121;&#58;&#32;&#34;&#67;&#111;&#117;&#114;&#105;&#101;&#114;&#32;&#78;&#101;&#119;&#34;&#44;&#67;&#111;&#117;&#114;&#105;&#101;&#114;&#44;&#109;&#111;&#110;&#111;&#115;&#112;&#97;&#99;&#101;&#59;\">&#49;&#53;</pre></div>"
      ],
      "text/plain": [
       "15"
      ]
     },
     "execution_count": 16,
     "metadata": {
      "text/html": [],
      "text/plain": []
     },
     "output_type": "execute_result"
    }
   ],
   "source": [
    "Tr[{{1, 2, 3}, {4, 5, 6}, {7, 8, 9}}]"
   ]
  },
  {
   "cell_type": "code",
   "execution_count": 66,
   "metadata": {},
   "outputs": [
    {
     "data": {
      "text/html": [
       "<div><pre style=\"&#102;&#111;&#110;&#116;&#45;&#102;&#97;&#109;&#105;&#108;&#121;&#58;&#32;&#34;&#67;&#111;&#117;&#114;&#105;&#101;&#114;&#32;&#78;&#101;&#119;&#34;&#44;&#67;&#111;&#117;&#114;&#105;&#101;&#114;&#44;&#109;&#111;&#110;&#111;&#115;&#112;&#97;&#99;&#101;&#59;\">&#123;&#123;&#49;&#44;&#32;&#50;&#44;&#32;&#51;&#125;&#44;&#32;&#123;&#52;&#44;&#32;&#53;&#44;&#32;&#54;&#125;&#44;&#32;&#123;&#55;&#44;&#32;&#56;&#44;&#32;&#57;&#125;&#125;</pre></div>"
      ],
      "text/plain": [
       "{{1, 2, 3}, {4, 5, 6}, {7, 8, 9}}"
      ]
     },
     "execution_count": 66,
     "metadata": {
      "text/html": [],
      "text/plain": []
     },
     "output_type": "execute_result"
    }
   ],
   "source": [
    "A1 = {{1, 2, 3}, {4, 5, 6}, {7, 8, 9}}"
   ]
  },
  {
   "cell_type": "code",
   "execution_count": 67,
   "metadata": {},
   "outputs": [
    {
     "data": {
      "text/html": [
       "<div><pre style=\"&#102;&#111;&#110;&#116;&#45;&#102;&#97;&#109;&#105;&#108;&#121;&#58;&#32;&#34;&#67;&#111;&#117;&#114;&#105;&#101;&#114;&#32;&#78;&#101;&#119;&#34;&#44;&#67;&#111;&#117;&#114;&#105;&#101;&#114;&#44;&#109;&#111;&#110;&#111;&#115;&#112;&#97;&#99;&#101;&#59;\">&#123;&#123;&#48;&#44;&#32;&#50;&#44;&#32;&#51;&#125;&#44;&#32;&#123;&#52;&#44;&#32;&#53;&#44;&#32;&#48;&#125;&#44;&#32;&#123;&#55;&#44;&#32;&#48;&#44;&#32;&#57;&#125;&#125;</pre></div>"
      ],
      "text/plain": [
       "{{0, 2, 3}, {4, 5, 0}, {7, 0, 9}}"
      ]
     },
     "execution_count": 67,
     "metadata": {
      "text/html": [],
      "text/plain": []
     },
     "output_type": "execute_result"
    }
   ],
   "source": [
    "A2 = {{0, 2, 3}, {4, 5, 0}, {7, 0, 9}}"
   ]
  },
  {
   "cell_type": "code",
   "execution_count": 68,
   "metadata": {},
   "outputs": [
    {
     "data": {
      "text/html": [
       "<div><pre style=\"&#102;&#111;&#110;&#116;&#45;&#102;&#97;&#109;&#105;&#108;&#121;&#58;&#32;&#34;&#67;&#111;&#117;&#114;&#105;&#101;&#114;&#32;&#78;&#101;&#119;&#34;&#44;&#67;&#111;&#117;&#114;&#105;&#101;&#114;&#44;&#109;&#111;&#110;&#111;&#115;&#112;&#97;&#99;&#101;&#59;\">&#50;&#57;</pre></div>"
      ],
      "text/plain": [
       "29"
      ]
     },
     "execution_count": 68,
     "metadata": {
      "text/html": [],
      "text/plain": []
     },
     "output_type": "execute_result"
    }
   ],
   "source": [
    "Tr[A1+A2]"
   ]
  },
  {
   "cell_type": "code",
   "execution_count": 69,
   "metadata": {},
   "outputs": [
    {
     "data": {
      "text/html": [
       "<div><pre style=\"&#102;&#111;&#110;&#116;&#45;&#102;&#97;&#109;&#105;&#108;&#121;&#58;&#32;&#34;&#67;&#111;&#117;&#114;&#105;&#101;&#114;&#32;&#78;&#101;&#119;&#34;&#44;&#67;&#111;&#117;&#114;&#105;&#101;&#114;&#44;&#109;&#111;&#110;&#111;&#115;&#112;&#97;&#99;&#101;&#59;\">&#50;&#57;</pre></div>"
      ],
      "text/plain": [
       "29"
      ]
     },
     "execution_count": 69,
     "metadata": {
      "text/html": [],
      "text/plain": []
     },
     "output_type": "execute_result"
    }
   ],
   "source": [
    "Tr[A1] + Tr[A2]"
   ]
  },
  {
   "cell_type": "code",
   "execution_count": 23,
   "metadata": {},
   "outputs": [
    {
     "data": {
      "text/html": [
       "<div><pre style=\"&#102;&#111;&#110;&#116;&#45;&#102;&#97;&#109;&#105;&#108;&#121;&#58;&#32;&#34;&#67;&#111;&#117;&#114;&#105;&#101;&#114;&#32;&#78;&#101;&#119;&#34;&#44;&#67;&#111;&#117;&#114;&#105;&#101;&#114;&#44;&#109;&#111;&#110;&#111;&#115;&#112;&#97;&#99;&#101;&#59;\">&#49;&#53;</pre></div>"
      ],
      "text/plain": [
       "15"
      ]
     },
     "execution_count": 23,
     "metadata": {
      "text/html": [],
      "text/plain": []
     },
     "output_type": "execute_result"
    }
   ],
   "source": [
    "Tr[A1]"
   ]
  },
  {
   "cell_type": "code",
   "execution_count": 24,
   "metadata": {},
   "outputs": [
    {
     "data": {
      "text/html": [
       "<div><pre style=\"&#102;&#111;&#110;&#116;&#45;&#102;&#97;&#109;&#105;&#108;&#121;&#58;&#32;&#34;&#67;&#111;&#117;&#114;&#105;&#101;&#114;&#32;&#78;&#101;&#119;&#34;&#44;&#67;&#111;&#117;&#114;&#105;&#101;&#114;&#44;&#109;&#111;&#110;&#111;&#115;&#112;&#97;&#99;&#101;&#59;\">&#49;&#52;</pre></div>"
      ],
      "text/plain": [
       "14"
      ]
     },
     "execution_count": 24,
     "metadata": {
      "text/html": [],
      "text/plain": []
     },
     "output_type": "execute_result"
    }
   ],
   "source": [
    "Tr[A2]"
   ]
  },
  {
   "cell_type": "code",
   "execution_count": 71,
   "metadata": {},
   "outputs": [
    {
     "data": {
      "text/html": [
       "<div><pre style=\"&#102;&#111;&#110;&#116;&#45;&#102;&#97;&#109;&#105;&#108;&#121;&#58;&#32;&#34;&#67;&#111;&#117;&#114;&#105;&#101;&#114;&#32;&#78;&#101;&#119;&#34;&#44;&#67;&#111;&#117;&#114;&#105;&#101;&#114;&#44;&#109;&#111;&#110;&#111;&#115;&#112;&#97;&#99;&#101;&#59;\">&#49;&#51;&#53;</pre></div>"
      ],
      "text/plain": [
       "135"
      ]
     },
     "execution_count": 71,
     "metadata": {
      "text/html": [],
      "text/plain": []
     },
     "output_type": "execute_result"
    }
   ],
   "source": [
    "Tr[A1.A2]-Tr[A1]-Tr[A2]"
   ]
  },
  {
   "cell_type": "code",
   "execution_count": 25,
   "metadata": {},
   "outputs": [
    {
     "data": {
      "text/html": [
       "<div><pre style=\"&#102;&#111;&#110;&#116;&#45;&#102;&#97;&#109;&#105;&#108;&#121;&#58;&#32;&#34;&#67;&#111;&#117;&#114;&#105;&#101;&#114;&#32;&#78;&#101;&#119;&#34;&#44;&#67;&#111;&#117;&#114;&#105;&#101;&#114;&#44;&#109;&#111;&#110;&#111;&#115;&#112;&#97;&#99;&#101;&#59;\">&#49;&#48;&#54;</pre></div>"
      ],
      "text/plain": [
       "106"
      ]
     },
     "execution_count": 25,
     "metadata": {
      "text/html": [],
      "text/plain": []
     },
     "output_type": "execute_result"
    }
   ],
   "source": [
    "Tr[A2*A1]"
   ]
  },
  {
   "cell_type": "code",
   "execution_count": 35,
   "metadata": {},
   "outputs": [
    {
     "data": {
      "text/html": [
       "<div><pre style=\"&#102;&#111;&#110;&#116;&#45;&#102;&#97;&#109;&#105;&#108;&#121;&#58;&#32;&#34;&#67;&#111;&#117;&#114;&#105;&#101;&#114;&#32;&#78;&#101;&#119;&#34;&#44;&#67;&#111;&#117;&#114;&#105;&#101;&#114;&#44;&#109;&#111;&#110;&#111;&#115;&#112;&#97;&#99;&#101;&#59;\">&#123;&#123;&#49;&#44;&#32;&#50;&#125;&#44;&#32;&#123;&#51;&#44;&#32;&#52;&#125;&#125;</pre></div>"
      ],
      "text/plain": [
       "{{1, 2}, {3, 4}}"
      ]
     },
     "execution_count": 35,
     "metadata": {
      "text/html": [],
      "text/plain": []
     },
     "output_type": "execute_result"
    }
   ],
   "source": [
    "A3 = {{1, 2}, {3, 4}}"
   ]
  },
  {
   "cell_type": "code",
   "execution_count": 45,
   "metadata": {},
   "outputs": [
    {
     "data": {
      "text/html": [
       "<div><img alt=\"Output\" src=\"data:image/png;base64,iVBORw0KGgoAAAANSUhEUgAAAEwAAAASCAIAAAB+ca/7AAAAqXpUWHRSYXcgcHJvZmlsZSB0eXBlIGV4aWYAAHjaVU/bDQMhDPtnio6QFw6Mg66c1A06fs0drVQDjmMlAcp8v87yWFBrJWo2dECI6NFtUDS54dwqKsYY27JfvHzdfrlHiNhoTZape8h32EZ4Gio0gxwmmejUjYqMWkxq4sQBsFDxNImDcSKTbUhUEx+rccFm/ldPOPMnX+Tmcp3hyjWoeAtVpa7uZF/fKh839jmoEs6l/QAAAAlwSFlzAAALEwAACxMBAJqcGAAAADx0RVh0U29mdHdhcmUAQ3JlYXRlZCB3aXRoIHRoZSBXb2xmcmFtIExhbmd1YWdlIDogd3d3LndvbGZyYW0uY29tXKKmhQAAACF0RVh0Q3JlYXRpb24gVGltZQAyMDIwOjExOjA4IDE1OjUzOjM0XtbK/wAAAlxJREFUWIXdl6+zolAUx+/d2UCkSYOga3nByGjQqG4xbdWEmrw2nNngfwAkfJvcZtMEf4E7NAlv3jgPZ7RJ8zZodwM4AgIPf87sfhrnXu4533PP/QUJIeB/52t6c7/fz+Vyzwnl7tA0jRAC6SJd1y0Wi16/f5o0kYZh8Dz/tFA8MMbD4ZBl2VsGabVapVLp9E2SUVXVcZyUDo9gPp8fDof7jvklPakURd2S0SvY7XY0Td93zDSRz1f4IBJFYowDGd0oFQgh7OogYvEJNNzCyelp+IqyOfcZMMbEFiVRpGmax7Wrd2Eb/LbkcrSPoB2r/rVxlagohmHUajUANkr7/SchhBBLBqjtKYo1JsYWJIvIxitZDvJXRa0rgZR/znq95jgOgPxg6act/+0F/Hm3AEgwZorNF+m6rizLtm1fJOFX87x4LgBjPB6P051uPt6A0GpkMKbgi5xMJjzPK4qS+cf8YOmXqiUDVLhmUc5ms06nM51OvU/XdaNbnd4toBctshZijan4IhFC3rnv5RVjzDBMxiHy33+UwdtHeDL1LoQQwiZChcS57vV6HMfRNO05jdw9NkoFNoEWXu6xxs8JHpr7/V4URUKIruvb7TZ8olpyObDTBNAEAMqyFXsMa3JCwwnHcRBChBBVVUPOzrzFGtNj84jeeERR3O/3kiQFIxXCeRG0o0ePJIUkk0hCiCRJq9Xq5PRssxS0BGN8bFEgCT+1bNteLBZeLV1UEbfguu5oNGJZ9kGPgegFnWGY8DXgGVAUVa1WH+c0OpMAANu2TdOs1+sPcplEzO56J/4CuUQnaA0lMLcAAAAASUVORK5CYII=\"></div>"
      ],
      "text/plain": [
       "Sqrt[15 + Sqrt[221]]"
      ]
     },
     "execution_count": 45,
     "metadata": {
      "text/html": [],
      "text/plain": []
     },
     "output_type": "execute_result"
    }
   ],
   "source": [
    "Norm[A3, 2]"
   ]
  },
  {
   "cell_type": "code",
   "execution_count": 46,
   "metadata": {},
   "outputs": [
    {
     "data": {
      "text/html": [
       "<div><pre style=\"&#102;&#111;&#110;&#116;&#45;&#102;&#97;&#109;&#105;&#108;&#121;&#58;&#32;&#34;&#67;&#111;&#117;&#114;&#105;&#101;&#114;&#32;&#78;&#101;&#119;&#34;&#44;&#67;&#111;&#117;&#114;&#105;&#101;&#114;&#44;&#109;&#111;&#110;&#111;&#115;&#112;&#97;&#99;&#101;&#59;\">&#123;&#123;&#49;&#44;&#32;&#51;&#125;&#44;&#32;&#123;&#50;&#44;&#32;&#52;&#125;&#125;</pre></div>"
      ],
      "text/plain": [
       "{{1, 3}, {2, 4}}"
      ]
     },
     "execution_count": 46,
     "metadata": {
      "text/html": [],
      "text/plain": []
     },
     "output_type": "execute_result"
    }
   ],
   "source": [
    "A4 = Transpose[A3]"
   ]
  },
  {
   "cell_type": "code",
   "execution_count": 53,
   "metadata": {},
   "outputs": [
    {
     "data": {
      "text/html": [
       "<div><pre style=\"&#102;&#111;&#110;&#116;&#45;&#102;&#97;&#109;&#105;&#108;&#121;&#58;&#32;&#34;&#67;&#111;&#117;&#114;&#105;&#101;&#114;&#32;&#78;&#101;&#119;&#34;&#44;&#67;&#111;&#117;&#114;&#105;&#101;&#114;&#44;&#109;&#111;&#110;&#111;&#115;&#112;&#97;&#99;&#101;&#59;\">&#53;&#46;&#52;&#54;&#52;&#57;&#57;</pre></div>"
      ],
      "text/plain": [
       "5.46499"
      ]
     },
     "execution_count": 53,
     "metadata": {
      "text/html": [],
      "text/plain": []
     },
     "output_type": "execute_result"
    }
   ],
   "source": [
    "Norm[A3, 2]//N"
   ]
  },
  {
   "cell_type": "code",
   "execution_count": 51,
   "metadata": {},
   "outputs": [
    {
     "data": {
      "text/html": [
       "<div><pre style=\"&#102;&#111;&#110;&#116;&#45;&#102;&#97;&#109;&#105;&#108;&#121;&#58;&#32;&#34;&#67;&#111;&#117;&#114;&#105;&#101;&#114;&#32;&#78;&#101;&#119;&#34;&#44;&#67;&#111;&#117;&#114;&#105;&#101;&#114;&#44;&#109;&#111;&#110;&#111;&#115;&#112;&#97;&#99;&#101;&#59;\">&#123;&#123;&#53;&#44;&#32;&#49;&#49;&#125;&#44;&#32;&#123;&#49;&#49;&#44;&#32;&#50;&#53;&#125;&#125;</pre></div>"
      ],
      "text/plain": [
       "{{5, 11}, {11, 25}}"
      ]
     },
     "execution_count": 51,
     "metadata": {
      "text/html": [],
      "text/plain": []
     },
     "output_type": "execute_result"
    }
   ],
   "source": [
    "A5 = A3.A4"
   ]
  },
  {
   "cell_type": "code",
   "execution_count": 55,
   "metadata": {},
   "outputs": [
    {
     "data": {
      "text/html": [
       "<div><pre style=\"&#102;&#111;&#110;&#116;&#45;&#102;&#97;&#109;&#105;&#108;&#121;&#58;&#32;&#34;&#67;&#111;&#117;&#114;&#105;&#101;&#114;&#32;&#78;&#101;&#119;&#34;&#44;&#67;&#111;&#117;&#114;&#105;&#101;&#114;&#44;&#109;&#111;&#110;&#111;&#115;&#112;&#97;&#99;&#101;&#59;\">&#53;&#46;&#52;&#55;&#55;&#50;&#51;</pre></div>"
      ],
      "text/plain": [
       "5.47723"
      ]
     },
     "execution_count": 55,
     "metadata": {
      "text/html": [],
      "text/plain": []
     },
     "output_type": "execute_result"
    }
   ],
   "source": [
    "Sqrt[Tr[A5]]//N"
   ]
  },
  {
   "cell_type": "code",
   "execution_count": 56,
   "metadata": {},
   "outputs": [
    {
     "data": {
      "text/html": [
       "<div><pre style=\"&#102;&#111;&#110;&#116;&#45;&#102;&#97;&#109;&#105;&#108;&#121;&#58;&#32;&#34;&#67;&#111;&#117;&#114;&#105;&#101;&#114;&#32;&#78;&#101;&#119;&#34;&#44;&#67;&#111;&#117;&#114;&#105;&#101;&#114;&#44;&#109;&#111;&#110;&#111;&#115;&#112;&#97;&#99;&#101;&#59;\">&#53;&#46;&#52;&#55;&#55;&#50;&#51;</pre></div>"
      ],
      "text/plain": [
       "5.47723"
      ]
     },
     "execution_count": 56,
     "metadata": {
      "text/html": [],
      "text/plain": []
     },
     "output_type": "execute_result"
    }
   ],
   "source": [
    "Norm[A3, \"Frobenius\"]//N"
   ]
  },
  {
   "cell_type": "code",
   "execution_count": 57,
   "metadata": {},
   "outputs": [
    {
     "data": {
      "text/html": [
       "<div><pre style=\"&#102;&#111;&#110;&#116;&#45;&#102;&#97;&#109;&#105;&#108;&#121;&#58;&#32;&#34;&#67;&#111;&#117;&#114;&#105;&#101;&#114;&#32;&#78;&#101;&#119;&#34;&#44;&#67;&#111;&#117;&#114;&#105;&#101;&#114;&#44;&#109;&#111;&#110;&#111;&#115;&#112;&#97;&#99;&#101;&#59;\">&#53;&#46;&#52;&#54;&#52;&#57;&#57;</pre></div>"
      ],
      "text/plain": [
       "5.46499"
      ]
     },
     "execution_count": 57,
     "metadata": {
      "text/html": [],
      "text/plain": []
     },
     "output_type": "execute_result"
    }
   ],
   "source": [
    "Norm[A3]//N"
   ]
  },
  {
   "cell_type": "code",
   "execution_count": 58,
   "metadata": {},
   "outputs": [
    {
     "data": {
      "text/html": [
       "<div><pre style=\"&#102;&#111;&#110;&#116;&#45;&#102;&#97;&#109;&#105;&#108;&#121;&#58;&#32;&#34;&#67;&#111;&#117;&#114;&#105;&#101;&#114;&#32;&#78;&#101;&#119;&#34;&#44;&#67;&#111;&#117;&#114;&#105;&#101;&#114;&#44;&#109;&#111;&#110;&#111;&#115;&#112;&#97;&#99;&#101;&#59;\">&#45;&#50;</pre></div>"
      ],
      "text/plain": [
       "-2"
      ]
     },
     "execution_count": 58,
     "metadata": {
      "text/html": [],
      "text/plain": []
     },
     "output_type": "execute_result"
    }
   ],
   "source": [
    "Det[A3]"
   ]
  },
  {
   "cell_type": "code",
   "execution_count": 59,
   "metadata": {},
   "outputs": [
    {
     "data": {
      "text/html": [
       "<div><pre style=\"&#102;&#111;&#110;&#116;&#45;&#102;&#97;&#109;&#105;&#108;&#121;&#58;&#32;&#34;&#67;&#111;&#117;&#114;&#105;&#101;&#114;&#32;&#78;&#101;&#119;&#34;&#44;&#67;&#111;&#117;&#114;&#105;&#101;&#114;&#44;&#109;&#111;&#110;&#111;&#115;&#112;&#97;&#99;&#101;&#59;\">&#45;&#56;</pre></div>"
      ],
      "text/plain": [
       "-8"
      ]
     },
     "execution_count": 59,
     "metadata": {
      "text/html": [],
      "text/plain": []
     },
     "output_type": "execute_result"
    }
   ],
   "source": [
    "Det[2*A3]"
   ]
  },
  {
   "cell_type": "code",
   "execution_count": 60,
   "metadata": {},
   "outputs": [
    {
     "data": {
      "text/html": [
       "<div><pre style=\"&#102;&#111;&#110;&#116;&#45;&#102;&#97;&#109;&#105;&#108;&#121;&#58;&#32;&#34;&#67;&#111;&#117;&#114;&#105;&#101;&#114;&#32;&#78;&#101;&#119;&#34;&#44;&#67;&#111;&#117;&#114;&#105;&#101;&#114;&#44;&#109;&#111;&#110;&#111;&#115;&#112;&#97;&#99;&#101;&#59;\">&#48;</pre></div>"
      ],
      "text/plain": [
       "0"
      ]
     },
     "execution_count": 60,
     "metadata": {
      "text/html": [],
      "text/plain": []
     },
     "output_type": "execute_result"
    }
   ],
   "source": [
    "Det[{{1,2,0,1},{1,2,0,2},{1,2,0,3},{1,0,-3,4}}]"
   ]
  },
  {
   "cell_type": "code",
   "execution_count": 62,
   "metadata": {},
   "outputs": [
    {
     "data": {
      "text/html": [
       "<div><pre style=\"&#102;&#111;&#110;&#116;&#45;&#102;&#97;&#109;&#105;&#108;&#121;&#58;&#32;&#34;&#67;&#111;&#117;&#114;&#105;&#101;&#114;&#32;&#78;&#101;&#119;&#34;&#44;&#67;&#111;&#117;&#114;&#105;&#101;&#114;&#44;&#109;&#111;&#110;&#111;&#115;&#112;&#97;&#99;&#101;&#59;\">&#51;</pre></div>"
      ],
      "text/plain": [
       "3"
      ]
     },
     "execution_count": 62,
     "metadata": {
      "text/html": [],
      "text/plain": []
     },
     "output_type": "execute_result"
    }
   ],
   "source": [
    "MatrixRank[{{1,2,0,1},{1,2,0,2},{1,2,0,3},{1,0,-3,4}}]"
   ]
  },
  {
   "cell_type": "code",
   "execution_count": 65,
   "metadata": {},
   "outputs": [
    {
     "data": {
      "text/html": [
       "<div><img alt=\"Output\" src=\"data:image/png;base64,iVBORw0KGgoAAAANSUhEUgAAAIgAAAAfCAIAAACzuxL+AAAAqHpUWHRSYXcgcHJvZmlsZSB0eXBlIGV4aWYAAHjaVU7bDQMhDPtnio6QFw6Mg66c1A06fs0drVQDsWMlIWW+X2d5LKi1EjUbOiBE9Og2KJrccF4VFSPHtuzHl6/bL/cIERutyTJ1D/kO2whPQ4VmMIZJJjp1o2JELSY1ceIAWKh4msRBnshkGxLVxMdqXLCZ/9UTzvzJjdxcrjdceQYVf6Hj1OZx+Wv1DzeyOZ+6r8TlAAAACXBIWXMAAAsTAAALEwEAmpwYAAAAPHRFWHRTb2Z0d2FyZQBDcmVhdGVkIHdpdGggdGhlIFdvbGZyYW0gTGFuZ3VhZ2UgOiB3d3cud29sZnJhbS5jb21coqaFAAAAIXRFWHRDcmVhdGlvbiBUaW1lADIwMjA6MTE6MDggMjM6MjQ6MTCpJboUAAACvElEQVRoge2aPZaiQBDHq/ftATwEEPA8gZ6gncRoUjMI4QAGBptNAiFmm040EZxAT+AzoLlLbwAuKt3QDYWg+MumfPy7i5ru+lDCOYc34+PX0Bt4NIlLLizDDF0+C5eEEOImXYUmFxga8RwWgL/BDU3ikg38ZcECQWtygblhbhmYcjTiBw9JcYKBKS4z8/uTRXTozUiZYGAul9n2bCLkgr64CUz+vzTezWrS4A5dO3BK8fO/mLwqqNYbMjvw/8SOE/PXodGd2IFFwPAXZsECZEuzwBEuWbVfn5j1erxXbguE7lxVy39shpaqr8VN/wj7lfiwGpYtfLJq/425sSeARpxHzyA+weT/HLwDM1IUApPXDYq1WjGS0B14CCcZWgu/GgqBYdaWc67Ui2Xh5rwtygz1gYdskmF4B85j+2EV7ajATf6GdyiSn2HN4XhmAAplD404BchC1K08O+WJydIUUTdLT+AMWX7juoOGCcCU7JcTk4Vf8CEs9ZI0NenNG05cstqXfy6CSj+QuKY/jzlGXKgFYQa6/YbEnd1ud2fxfX82mymq1juuJG541peb0EpiqNovvaq4Wa3rYmsaX91n6paKHV25tjt4DLLd3dnLkUwcSOYTcazuo/SdxA40vCxJYITbalaTu1OPgnInlGcyZY6hliW8/TTIwo1/hGIecVv+mvYCYP8jLH2bJxn31KkVtHRHQbkTDOwP0bVcsaNWZYZ34J7kI2sOMBdXA/qTjDq1bvSnrIlK5/+z6tbnZeGSkNUp0P1eKn/uG0lNdb0+lNtwdb1q5JInQOZO2cj2MPRvFJelvop9arOydrOJAcSnNvZvN5sYQHxqJ6ak19lEd/HrwKSvNS6sdSefTfSU5VHEq5lrtD2zJlJ3ep0M1Db2gk9kduATY5CotGBigal86YMZIlRxwt+/9h8l/wCDqIe91kDMJQAAAABJRU5ErkJggg==\"></div>"
      ],
      "text/plain": [
       "           3    1\n",
       "{{-2, 1}, {-, -(-)}}\n",
       "           2    2"
      ]
     },
     "execution_count": 65,
     "metadata": {
      "text/html": [],
      "text/plain": []
     },
     "output_type": "execute_result"
    }
   ],
   "source": [
    "Inverse[A3]"
   ]
  },
  {
   "cell_type": "code",
   "execution_count": 1,
   "metadata": {},
   "outputs": [
    {
     "data": {
      "text/html": [
       "<div><img alt=\"Output\" src=\"data:image/png;base64,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\"></div>"
      ],
      "text/plain": [
       "-Graphics3D-"
      ]
     },
     "execution_count": 1,
     "metadata": {
      "text/html": [],
      "text/plain": []
     },
     "output_type": "execute_result"
    }
   ],
   "source": [
    "Plot3D[{x^2 + y^2, -x^2 - y^2}, {x, -2, 2}, {y, -2, 2}, \n",
    " RegionFunction -> Function[{x, y, z}, x^2 + y^2 <= 4], \n",
    " BoxRatios -> Automatic] "
   ]
  },
  {
   "cell_type": "code",
   "execution_count": null,
   "metadata": {},
   "outputs": [],
   "source": []
  }
 ],
 "metadata": {
  "kernelspec": {
   "display_name": "Wolfram Language 12.1",
   "language": "Wolfram Language",
   "name": "wolframlanguage12.1"
  },
  "language_info": {
   "codemirror_mode": "mathematica",
   "file_extension": ".m",
   "mimetype": "application/vnd.wolfram.m",
   "name": "Wolfram Language",
   "pygments_lexer": "mathematica",
   "version": "12.0"
  }
 },
 "nbformat": 4,
 "nbformat_minor": 4
}
